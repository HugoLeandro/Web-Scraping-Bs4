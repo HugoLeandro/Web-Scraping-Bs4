{
 "cells": [
  {
   "cell_type": "code",
   "execution_count": 1,
   "id": "b26c23a2",
   "metadata": {},
   "outputs": [],
   "source": [
    "from bs4 import BeautifulSoup\n",
    "import requests\n",
    "import re\n",
    "\n",
    "# conectar com o site\n",
    "link = \"https://coinmarketcap.com/\"\n",
    "requisicao = requests.get(link)\n",
    "site = BeautifulSoup(requisicao.text, \"html.parser\")"
   ]
  },
  {
   "cell_type": "code",
   "execution_count": 2,
   "id": "1c9a7fdb",
   "metadata": {},
   "outputs": [
    {
     "name": "stdout",
     "output_type": "stream",
     "text": [
      "{'Bitcoin': {'nome': 'Bitcoin', 'codigo': 'BTC', 'preco': '$27,551.79', 'market_cap': '$533,348,086,742', 'volume': '$31,316,956,775', 'var_1h': '-0.42%', 'var_24h': '-2.37%', 'var_7d': '10.32%'}, 'Ethereum': {'nome': 'Ethereum', 'codigo': 'ETH', 'preco': '$1,751.16', 'market_cap': '$214,500,724,526', 'volume': '$12,355,065,140', 'var_1h': '-0.29%', 'var_24h': '-2.36%', 'var_7d': '5.12%'}, 'Tether': {'nome': 'Tether', 'codigo': 'USDT', 'preco': '$1.00', 'market_cap': '$77,621,084,695', 'volume': '$48,064,847,475', 'var_1h': '-0.00%', 'var_24h': '0.08%', 'var_7d': '-0.04%'}, 'BNB': {'nome': 'BNB', 'codigo': 'BNB', 'preco': '$324.71', 'market_cap': '$51,275,511,871', 'volume': '$891,503,488', 'var_1h': '-0.49%', 'var_24h': '-0.63%', 'var_7d': '2.18%'}, 'USD Coin': {'nome': 'USD Coin', 'codigo': 'USDC', 'preco': '$0.9992', 'market_cap': '$34,691,554,280', 'volume': '$6,422,995,243', 'var_1h': '-0.00%', 'var_24h': '0.03%', 'var_7d': '-0.04%'}, 'XRP': {'nome': 'XRP', 'codigo': 'XRP', 'preco': '$0.4405', 'market_cap': '$22,445,764,513', 'volume': '$2,894,450,873', 'var_1h': '-0.69%', 'var_24h': '-2.50%', 'var_7d': '20.98%'}, 'Cardano': {'nome': 'Cardano', 'codigo': 'ADA', 'preco': '$0.3715', 'market_cap': '$12,898,001,233', 'volume': '$611,428,568', 'var_1h': '-0.61%', 'var_24h': '-0.64%', 'var_7d': '13.34%'}, 'Dogecoin': {'nome': 'Dogecoin', 'codigo': 'DOGE', 'preco': '$0.07721', 'market_cap': '$10,243,484,053', 'volume': '$781,279,291', 'var_1h': '-0.68%', 'var_24h': '2.42%', 'var_7d': '9.05%'}, 'Polygon': {'nome': 'Polygon', 'codigo': 'MATIC', 'preco': '$1.12', 'market_cap': '$9,811,913,504', 'volume': '$539,504,190', 'var_1h': '-0.52%', 'var_24h': '-2.13%', 'var_7d': '-1.62%'}, 'Solana': {'nome': 'Solana', 'codigo': 'SOL', 'preco': '$21.71', 'market_cap': '$8,330,227,536', 'volume': '$818,494,954', 'var_1h': '-0.40%', 'var_24h': '-3.74%', 'var_7d': '10.39%'}}\n"
     ]
    }
   ],
   "source": [
    "tbody = site.find(\"tbody\")\n",
    "linhas = tbody.find_all(\"tr\")\n",
    "moedas = {}\n",
    "for linha in linhas:\n",
    "    try:\n",
    "        nome = linha.find(class_=\"ePTNty\").text\n",
    "        codigo = linha.find(class_=\"coin-item-symbol\").text\n",
    "        valores = linha.find_all(string=re.compile(\"\\$\"))\n",
    "        preco = valores[0]\n",
    "        percentuais = linha.find_all(string=re.compile(\"%\"))\n",
    "        \n",
    "        for i, percentual in enumerate(percentuais):\n",
    "            if \"bQjSqS\" in percentual.parent[\"class\"]:\n",
    "                percentuais[i] = \"-\" + str(percentual)\n",
    "\n",
    "        var_1h = percentuais[0]\n",
    "        var_24h = percentuais[1]\n",
    "        var_7d = percentuais[2]\n",
    "        \n",
    "        market_cap = valores[2]\n",
    "        volume = valores[3]\n",
    "        dic = {\"nome\": nome, \"codigo\": codigo, \"preco\": preco, \"market_cap\": market_cap, \"volume\": volume,\n",
    "              \"var_1h\": var_1h, \"var_24h\": var_24h, \"var_7d\": var_7d}\n",
    "        moedas[nome] = dic\n",
    "    except AttributeError:\n",
    "        break\n",
    "print(moedas)"
   ]
  },
  {
   "cell_type": "code",
   "execution_count": null,
   "id": "e7aca515",
   "metadata": {},
   "outputs": [],
   "source": []
  }
 ],
 "metadata": {
  "kernelspec": {
   "display_name": "Python 3 (ipykernel)",
   "language": "python",
   "name": "python3"
  },
  "language_info": {
   "codemirror_mode": {
    "name": "ipython",
    "version": 3
   },
   "file_extension": ".py",
   "mimetype": "text/x-python",
   "name": "python",
   "nbconvert_exporter": "python",
   "pygments_lexer": "ipython3",
   "version": "3.9.13"
  }
 },
 "nbformat": 4,
 "nbformat_minor": 5
}
